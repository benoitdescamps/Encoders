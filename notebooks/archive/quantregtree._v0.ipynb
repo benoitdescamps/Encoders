{
 "cells": [
  {
   "cell_type": "code",
   "execution_count": 283,
   "metadata": {
    "collapsed": true
   },
   "outputs": [],
   "source": [
    "from sklearn.ensemble import RandomTreesEmbedding\n",
    "import numpy as np\n",
    "\n",
    "from sklearn.base import BaseEstimator\n",
    "from scipy.optimize import brenth\n",
    "from functools import reduce"
   ]
  },
  {
   "cell_type": "code",
   "execution_count": 285,
   "metadata": {
    "collapsed": true
   },
   "outputs": [],
   "source": [
    "from functools import reduce\n",
    "from functools import partial"
   ]
  },
  {
   "cell_type": "code",
   "execution_count": 286,
   "metadata": {},
   "outputs": [],
   "source": [
    "def merge_pairs(cdf1,cdf2,weight1,weight2,alpha,option = 'linear'):\n",
    "    '''\n",
    "    returns cdf of merged pairs\n",
    "    '''\n",
    "    if cdf1[1][0] < cdf2[1][0]:\n",
    "        if cdf1[1][1] < cdf2[1][1]:\n",
    "            return ([cdf1[0][0],cdf1[0][1] ],[cdf1[1][0],cdf1[1][1]])\n",
    "        else:\n",
    "            return ([cdf1[0][0],cdf2[0][1] ],[cdf1[1][0],cdf2[1][1]])\n",
    "    else:\n",
    "        if cdf1[1][1] < cdf2[1][1]:\n",
    "            return ([cdf2[0][0],cdf1[0][1] ],[cdf2[1][0],cdf1[1][1]])\n",
    "        else:\n",
    "            return ([cdf2[0][0],cdf2[0][1] ],[cdf2[1][0],cdf2[1][1]])\n",
    "def select_pair(data,alpha):\n",
    "    N = float(len(data)-1)\n",
    "    if N > 0.0:\n",
    "        ind = int(np.floor(alpha*N))\n",
    "        return ([data[ind],data[ind+1]],[float(ind)/N,float(ind+1)/N])\n",
    "    else:\n",
    "        return (data,[1.0])\n",
    "\n",
    "\n",
    "from sklearn.base import BaseEstimator\n",
    "from functools import reduce\n",
    "class quantregTree(BaseEstimator):\n",
    "    def __init__(self,alpha,n_trees,max_depth=3):\n",
    "        self.alpha = alpha\n",
    "        self.n_trees = n_trees\n",
    "        self.weight_leafs = None\n",
    "        self.rte = None\n",
    "        self.leafs = dict()\n",
    "        self.max_depth = max_depth\n",
    "        \n",
    "    def fit(self,X,y):\n",
    "        self.rte = RandomTreesEmbedding(n_estimators=self.n_trees, max_depth=self.max_depth,min_samples_leaf=3) \n",
    "        X_ = self.rte.fit_transform(X,y)\n",
    "        self.weight_leafs = X_.sum(axis=0)\n",
    "        indices = X_.nonzero()\n",
    "        leafs = indices[1]\n",
    "        rows = indices[0]\n",
    "        for leaf in np.unique(leafs):\n",
    "            ####### bin leafs #######\n",
    "            values = np.sort(y[rows[leafs==leaf]])\n",
    "            cdf = select_pair(values,self.alpha)\n",
    "            self.leafs.update({leaf:cdf})  \n",
    "\n",
    "        return self\n",
    "    def predict(self,X):\n",
    "        indices = self.rte.transform(X).nonzero()\n",
    "        leafs = indices[1]\n",
    "        rows = indices[0]\n",
    "        def quantile(n_row):\n",
    "            leaf_list = leafs[n_row*self.n_trees:(n_row+1)*self.n_trees:]\n",
    "            final_cdf = reduce(lambda x,n:merge_pairs(x,self.leafs[leaf_list[n]],n/(n+1),1/(n+1),self.alpha)\\\n",
    "                                   , np.arange(1,len(leaf_list)),self.leafs[leaf_list[0]] )\n",
    "            return final_cdf[0][0]\n",
    "        ypred = list(map(lambda n:quantile(n),range(X.shape[0])) )\n",
    "        return ypred"
   ]
  },
  {
   "cell_type": "code",
   "execution_count": null,
   "metadata": {
    "collapsed": true
   },
   "outputs": [],
   "source": []
  },
  {
   "cell_type": "code",
   "execution_count": 282,
   "metadata": {},
   "outputs": [
    {
     "data": {
      "image/png": "[encoded data removed]",
      "text/plain": [
       "<matplotlib.figure.Figure at 0x195865bfa90>"
      ]
     },
     "metadata": {},
     "output_type": "display_data"
    }
   ],
   "source": [
    "import numpy as np\n",
    "import matplotlib.pyplot as plt\n",
    "\n",
    "from sklearn.ensemble import GradientBoostingRegressor\n",
    "\n",
    "np.random.seed(1)\n",
    "\n",
    "\n",
    "def f(x):\n",
    "    \"\"\"The function to predict.\"\"\"\n",
    "    return x * np.sin(x)\n",
    "\n",
    "#----------------------------------------------------------------------\n",
    "#  First the noiseless case\n",
    "X = np.atleast_2d(np.random.uniform(0, 10.0, size=100)).T\n",
    "X = X.astype(np.float32)\n",
    "\n",
    "# Observations\n",
    "y = f(X).ravel()\n",
    "\n",
    "dy = 1.5 + 1.0 * np.random.random(y.shape)\n",
    "noise = np.random.normal(0, dy)\n",
    "y += noise\n",
    "y = y.astype(np.float32)\n",
    "\n",
    "# Mesh the input space for evaluations of the real function, the prediction and\n",
    "# its MSE\n",
    "xx = np.atleast_2d(np.linspace(0, 10, 1000)).T\n",
    "xx = xx.astype(np.float32)\n",
    "\n",
    "alpha = 0.95\n",
    "\n",
    "qt_upper = quantregTree(alpha = alpha,n_trees=25)\n",
    "\n",
    "qt_upper.fit(X, y)\n",
    "\n",
    "# Make the prediction on the meshed x-axis\n",
    "y_upper = qt_upper.predict(xx)\n",
    "\n",
    "qt_lower = quantregTree(alpha = 1.0-alpha,n_trees=25,max_depth = 5)\n",
    "qt_lower.fit(X, y)\n",
    "\n",
    "# Make the prediction on the meshed x-axis\n",
    "y_lower = qt_lower.predict(xx)\n",
    "\n",
    "clf = GradientBoostingRegressor(loss='ls', alpha=alpha,\n",
    "                                n_estimators=250, max_depth=3,\n",
    "                                learning_rate=.1, min_samples_leaf=9,\n",
    "                                min_samples_split=9)\n",
    "clf.fit(X, y)\n",
    "\n",
    "# Make the prediction on the meshed x-axis\n",
    "y_pred = clf.predict(xx)\n",
    "\n",
    "# Plot the function, the prediction and the 90% confidence interval based on\n",
    "# the MSE\n",
    "fig = plt.figure()\n",
    "plt.plot(xx, f(xx), 'g:', label=u'$f(x) = x\\,\\sin(x)$')\n",
    "plt.plot(X, y, 'b.', markersize=10, label=u'Observations')\n",
    "plt.plot(xx, y_pred, 'r-', label=u'Prediction')\n",
    "plt.plot(xx, y_upper, 'k-')\n",
    "plt.plot(xx, y_lower, 'k-')\n",
    "plt.fill(np.concatenate([xx, xx[::-1]]),\n",
    "         np.concatenate([y_upper, y_lower[::-1]]),\n",
    "         alpha=.5, fc='b', ec='None', label='90% prediction interval')\n",
    "plt.xlabel('$x$')\n",
    "plt.ylabel('$f(x)$')\n",
    "plt.ylim(-10, 20)\n",
    "plt.legend(loc='upper left')\n",
    "plt.show()"
   ]
  },
  {
   "cell_type": "code",
   "execution_count": null,
   "metadata": {
    "collapsed": true
   },
   "outputs": [],
   "source": []
  }
 ],
 "metadata": {
  "kernelspec": {
   "display_name": "Python 3",
   "language": "python",
   "name": "python3"
  },
  "language_info": {
   "codemirror_mode": {
    "name": "ipython",
    "version": 3
   },
   "file_extension": ".py",
   "mimetype": "text/x-python",
   "name": "python",
   "nbconvert_exporter": "python",
   "pygments_lexer": "ipython3",
   "version": "3.5.3"
  }
 },
 "nbformat": 4,
 "nbformat_minor": 2
}
